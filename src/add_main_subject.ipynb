{
 "cells": [
  {
   "cell_type": "code",
   "execution_count": 1,
   "metadata": {},
   "outputs": [],
   "source": [
    "import pandas as pd\n",
    "\n",
    "data = pd.read_csv(\"reconciled_articles.csv\", sep = \"\\t\")"
   ]
  },
  {
   "cell_type": "markdown",
   "metadata": {},
   "source": [
    "If they are on the database, they are related to single-cell transcriptomics in some sense (but not necessarily single cell RNA sequencing!) \n"
   ]
  },
  {
   "cell_type": "code",
   "execution_count": 2,
   "metadata": {},
   "outputs": [],
   "source": [
    "with open(\"main_subject_scrnaseq_08_02_2021.qs\", \"w\") as f:\n",
    "    for i, row in data.iterrows():\n",
    "        s = row[\"item\"]\n",
    "        p = \"P921\" # external data available at\n",
    "        o = \"Q105406038\"\n",
    "        rp1 = \"S248\"\n",
    "        ro1 = \"Q103034964\"\n",
    "        rp2 = \"S854\"\n",
    "        ro2 = '\"https://www.nxn.se/single-cell-studies/data.tsv\"'\n",
    "        rp4 = \"S813\"\n",
    "        ro4 = \"+2021-02-07T00:00:00Z/11\"\n",
    "        f.write(f\"{s}|{p}|{o}|{rp1}|{ro1}|{rp2}|{ro2}|{rp4}|{ro4}\")\n",
    "        f.write(\"\\n\")"
   ]
  }
 ],
 "metadata": {
  "kernelspec": {
   "display_name": "Python 3",
   "language": "python",
   "name": "python3"
  },
  "language_info": {
   "codemirror_mode": {
    "name": "ipython",
    "version": 3
   },
   "file_extension": ".py",
   "mimetype": "text/x-python",
   "name": "python",
   "nbconvert_exporter": "python",
   "pygments_lexer": "ipython3",
   "version": "3.6.9"
  }
 },
 "nbformat": 4,
 "nbformat_minor": 4
}
