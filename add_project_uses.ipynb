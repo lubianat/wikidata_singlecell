{
 "cells": [
  {
   "cell_type": "code",
   "execution_count": 1,
   "metadata": {},
   "outputs": [
    {
     "name": "stdout",
     "output_type": "stream",
     "text": [
      "                                DOI      Organism                Tissue  \\\n",
      "0           10.1073/PNAS.97.11.6144           Rat                 Brain   \n",
      "1     10.1016/S0092-8674(00)80581-4         Mouse                 Brain   \n",
      "2     10.1016/S0896-6273(03)00229-0  Human, Mouse                 Brain   \n",
      "3             10.1093/CERCOR/BHJ081           Rat                 Brain   \n",
      "4                10.1093/NAR/GKL050         Mouse                   ICM   \n",
      "...                             ...           ...                   ...   \n",
      "1025     10.1016/J.STEM.2020.11.015         Human  [Bone marrow, Liver]   \n",
      "1026   10.1016/J.IMMUNI.2020.12.003         Human                  Lung   \n",
      "1027   10.1371/JOURNAL.PBIO.3001017         Mouse               Culture   \n",
      "1029     10.1016/J.CELL.2020.12.016         Human             Intestine   \n",
      "1030   10.1016/J.CELREP.2020.108573         Human           Bone marrow   \n",
      "\n",
      "               Technique Data location  \\\n",
      "0             sc-RT-mPCR           NaN   \n",
      "1                    PCR           NaN   \n",
      "2                    PCR           NaN   \n",
      "3             sc-RT-mPCR           NaN   \n",
      "4     aRNA amplification       GSE4309   \n",
      "...                  ...           ...   \n",
      "1025          Smart-seq2   E-MTAB-9067   \n",
      "1026            Chromium           NaN   \n",
      "1027            SCAN-seq           NaN   \n",
      "1029            Chromium     GSE158702   \n",
      "1030            Chromium     GSE158490   \n",
      "\n",
      "                                              itemLabel  \\\n",
      "0     Classification of fusiform neocortical interne...   \n",
      "1                Combinatorial receptor codes for odors   \n",
      "2     Single-cell transcriptional analysis of neuron...   \n",
      "3     Cortical sources of CRF, NKB, and CCK and thei...   \n",
      "4     An improved single-cell cDNA amplification met...   \n",
      "...                                                 ...   \n",
      "1025  Integrative Single-Cell RNA-Seq and ATAC-Seq A...   \n",
      "1026  Distinct developmental pathways from blood mon...   \n",
      "1027  Single-cell RNA-seq analysis of mouse preimpla...   \n",
      "1029  Spatiotemporal analysis of human intestinal de...   \n",
      "1030  Single-Cell Mapping of Progressive Fetal-to-Ad...   \n",
      "\n",
      "                     normalized_doi        item  \n",
      "0           10.1073/PNAS.97.11.6144   Q35762020  \n",
      "1     10.1016/S0092-8674(00)80581-4   Q29616773  \n",
      "2     10.1016/S0896-6273(03)00229-0   Q30921133  \n",
      "3             10.1093/CERCOR/BHJ081   Q46843681  \n",
      "4                10.1093/NAR/GKL050   Q25256621  \n",
      "...                             ...         ...  \n",
      "1025     10.1016/J.STEM.2020.11.015  Q104558740  \n",
      "1026   10.1016/J.IMMUNI.2020.12.003  Q104684648  \n",
      "1027   10.1371/JOURNAL.PBIO.3001017  Q104618621  \n",
      "1029     10.1016/J.CELL.2020.12.016  Q104754414  \n",
      "1030   10.1016/J.CELREP.2020.108573  Q104754435  \n",
      "\n",
      "[795 rows x 8 columns]\n"
     ]
    },
    {
     "name": "stderr",
     "output_type": "stream",
     "text": [
      "/home/lubianat/Documents/wiki_related/wikidata_singlecell/utils/utils.py:12: SettingWithCopyWarning: \n",
      "A value is trying to be set on a copy of a slice from a DataFrame.\n",
      "Try using .loc[row_indexer,col_indexer] = value instead\n",
      "\n",
      "See the caveats in the documentation: https://pandas.pydata.org/pandas-docs/stable/user_guide/indexing.html#returning-a-view-versus-a-copy\n",
      "  df[column] = strings\n"
     ]
    }
   ],
   "source": [
    "import pandas as pd\n",
    "from utils import utils\n",
    "\n",
    "data = pd.read_csv(\"reconciled_articles.csv\", sep = \"\\t\")\n",
    "data_tissues = utils.explode_commas(data, \"Tissue\")"
   ]
  },
  {
   "cell_type": "code",
   "execution_count": 3,
   "metadata": {},
   "outputs": [],
   "source": [
    "tissues = pd.Series(list(set(data_tissues['Tissue'])))\n",
    "tissues.to_csv(\"tissues_to_reconcile.csv\")"
   ]
  },
  {
   "cell_type": "markdown",
   "metadata": {},
   "source": [
    " I did the reconciliation via Google Sheets and the Wikidata add on. Worked nicely."
   ]
  },
  {
   "cell_type": "code",
   "execution_count": 8,
   "metadata": {},
   "outputs": [],
   "source": [
    "reconciled_tissues = pd.read_csv(\"reconciled_tissues.csv\")\n",
    "tissue2wikidata = {}\n",
    "for i, row in reconciled_tissues.iterrows():\n",
    "    tissue2wikidata[row[\"0\"]] = row[\"match\"]"
   ]
  },
  {
   "cell_type": "code",
   "execution_count": 10,
   "metadata": {},
   "outputs": [],
   "source": [
    "data_tissues[\"tissue_qid\"] = data_tissues[\"Tissue\"].map(tissue2wikidata)"
   ]
  },
  {
   "cell_type": "code",
   "execution_count": 11,
   "metadata": {},
   "outputs": [],
   "source": [
    "with open(\"project_uses_tissue_08_02_2021.qs\", \"w\") as f:\n",
    "    for i, row in data_tissues.iterrows():\n",
    "        s = row[\"item\"]\n",
    "        p = \"P4510\" # external data available at\n",
    "        o = row[\"tissue_qid\"]\n",
    "        rp1 = \"S248\"\n",
    "        ro1 = \"Q103034964\"\n",
    "        rp2 = \"S854\"\n",
    "        ro2 = '\"https://www.nxn.se/single-cell-studies/data.tsv\"'\n",
    "        rp4 = \"S813\"\n",
    "        ro4 = \"+2021-02-07T00:00:00Z/11\"\n",
    "        f.write(f\"{s}|{p}|{o}|{rp1}|{ro1}|{rp2}|{ro2}|{rp4}|{ro4}\")\n",
    "        f.write(\"\\n\")"
   ]
  },
  {
   "cell_type": "code",
   "execution_count": null,
   "metadata": {},
   "outputs": [],
   "source": []
  }
 ],
 "metadata": {
  "kernelspec": {
   "display_name": "Python 3",
   "language": "python",
   "name": "python3"
  },
  "language_info": {
   "codemirror_mode": {
    "name": "ipython",
    "version": 3
   },
   "file_extension": ".py",
   "mimetype": "text/x-python",
   "name": "python",
   "nbconvert_exporter": "python",
   "pygments_lexer": "ipython3",
   "version": "3.6.9"
  }
 },
 "nbformat": 4,
 "nbformat_minor": 4
}
